{
  "nbformat": 4,
  "nbformat_minor": 0,
  "metadata": {
    "colab": {
      "name": "Image Classification.ipynb",
      "provenance": [],
      "authorship_tag": "ABX9TyPvvMYxZsPbuDPWGy15RZmm",
      "include_colab_link": true
    },
    "kernelspec": {
      "name": "python3",
      "display_name": "Python 3"
    },
    "language_info": {
      "name": "python"
    }
  },
  "cells": [
    {
      "cell_type": "markdown",
      "metadata": {
        "id": "view-in-github",
        "colab_type": "text"
      },
      "source": [
        "<a href=\"https://colab.research.google.com/github/sonamja/Mini-Project/blob/main/Image_Classification.ipynb\" target=\"_parent\"><img src=\"https://colab.research.google.com/assets/colab-badge.svg\" alt=\"Open In Colab\"/></a>"
      ]
    },
    {
      "cell_type": "code",
      "metadata": {
        "id": "oGS4t884YZDX"
      },
      "source": [
        "# Data : Images"
      ],
      "execution_count": null,
      "outputs": []
    },
    {
      "cell_type": "code",
      "metadata": {
        "colab": {
          "base_uri": "https://localhost:8080/"
        },
        "id": "hNWsFyq1c-Oe",
        "outputId": "2f9d7005-0552-4403-d300-c1ce3fa3ce16"
      },
      "source": [
        "!pip install bing-image-downloader\n"
      ],
      "execution_count": 1,
      "outputs": [
        {
          "output_type": "stream",
          "text": [
            "Collecting bing-image-downloader\n",
            "  Downloading https://files.pythonhosted.org/packages/2c/f9/e827c690d0df1ec2f2f27cf0fb3d1f944c5c56253f8d3750ccaff051b3d3/bing_image_downloader-1.1.0-py3-none-any.whl\n",
            "Installing collected packages: bing-image-downloader\n",
            "Successfully installed bing-image-downloader-1.1.0\n"
          ],
          "name": "stdout"
        }
      ]
    },
    {
      "cell_type": "code",
      "metadata": {
        "id": "brxJB3FTdmnm"
      },
      "source": [
        "!mkdir images "
      ],
      "execution_count": 2,
      "outputs": []
    },
    {
      "cell_type": "code",
      "metadata": {
        "colab": {
          "base_uri": "https://localhost:8080/"
        },
        "id": "wDsKuPKYgcHS",
        "outputId": "6ee4307c-af19-49a2-8f83-adac25766466"
      },
      "source": [
        "from bing_image_downloader import downloader\n",
        "downloader .download(\"beautiful roses\" ,limit=25,output_dir='images',\n",
        "                     adult_filter_off=True)"
      ],
      "execution_count": 3,
      "outputs": [
        {
          "output_type": "stream",
          "text": [
            "[%] Downloading Images to /content/images/beautiful roses\n",
            "\n",
            "\n",
            "[!!]Indexing page: 1\n",
            "\n",
            "[%] Indexed 25 Images on Page 1.\n",
            "\n",
            "===============================================\n",
            "\n",
            "[%] Downloading Image #1 from https://i.pinimg.com/originals/45/36/3a/45363a8bbd625d373cf29907e5a6fa6e.jpg\n",
            "[%] File Downloaded !\n",
            "\n",
            "[%] Downloading Image #2 from https://i.pinimg.com/originals/6f/c4/d9/6fc4d99dca23338160687fc9283a5061.jpg\n",
            "[%] File Downloaded !\n",
            "\n",
            "[%] Downloading Image #3 from https://i.pinimg.com/originals/67/92/43/6792430048d6a20f9caaea748b005927.jpg\n",
            "[%] File Downloaded !\n",
            "\n",
            "[%] Downloading Image #4 from https://i.pinimg.com/originals/21/bd/92/21bd92c76011274f7ce425d5c1fcd37d.jpg\n",
            "[%] File Downloaded !\n",
            "\n",
            "[%] Downloading Image #5 from https://i.pinimg.com/originals/c9/db/aa/c9dbaaa20b9e9a59bde7077af8daf3f6.jpg\n",
            "[%] File Downloaded !\n",
            "\n",
            "[%] Downloading Image #6 from https://i.pinimg.com/originals/35/fe/ed/35feed534a62d8ca6546523e0dc8c5a4.jpg\n",
            "[%] File Downloaded !\n",
            "\n",
            "[%] Downloading Image #7 from https://i.pinimg.com/originals/0b/86/d1/0b86d196a2931c4ee786a037917cd3e4.jpg\n",
            "[%] File Downloaded !\n",
            "\n",
            "[%] Downloading Image #8 from https://themysteriousworld.com/wp-content/uploads/2016/08/rose.jpg\n",
            "[Error]Invalid image, not saving https://themysteriousworld.com/wp-content/uploads/2016/08/rose.jpg\n",
            "\n",
            "[!] Issue getting: https://themysteriousworld.com/wp-content/uploads/2016/08/rose.jpg\n",
            "[!] Error:: Invalid image, not saving https://themysteriousworld.com/wp-content/uploads/2016/08/rose.jpg\n",
            "\n",
            "[%] Downloading Image #8 from https://i.pinimg.com/originals/8e/b4/65/8eb4659166783d9e59af164db7852b71.jpg\n",
            "[%] File Downloaded !\n",
            "\n",
            "[%] Downloading Image #9 from https://s-media-cache-ak0.pinimg.com/564x/f2/01/57/f201574c8705365b2c3e182953f765f2.jpg\n",
            "[%] File Downloaded !\n",
            "\n",
            "[%] Downloading Image #10 from https://i.pinimg.com/474x/ee/b8/93/eeb8938c6013f68ddf2a9a6613d18160--purple-roses-roses-roses.jpg\n",
            "[%] File Downloaded !\n",
            "\n",
            "[%] Downloading Image #11 from https://i.pinimg.com/originals/7d/76/3d/7d763dd9542792e7ded9ab14fc8849b5.jpg\n",
            "[%] File Downloaded !\n",
            "\n",
            "[%] Downloading Image #12 from https://i.pinimg.com/originals/00/85/44/008544146b29ac48d4d5d17b7f13a54c.jpg\n",
            "[%] File Downloaded !\n",
            "\n",
            "[%] Downloading Image #13 from https://i.pinimg.com/originals/48/80/b6/4880b69ff571b922a11e1a1980863058.jpg\n",
            "[%] File Downloaded !\n",
            "\n",
            "[%] Downloading Image #14 from https://i.pinimg.com/originals/4f/25/08/4f2508f998ec187ee62e6c27ecc2ed2c.jpg\n",
            "[%] File Downloaded !\n",
            "\n",
            "[%] Downloading Image #15 from https://i.pinimg.com/originals/2e/5b/dd/2e5bddd2381cf058c3b39e37f6a5606d.jpg\n",
            "[%] File Downloaded !\n",
            "\n",
            "[%] Downloading Image #16 from https://i.pinimg.com/originals/f5/09/4b/f5094b661644bd63f8506eabcf786862.jpg\n",
            "[%] File Downloaded !\n",
            "\n",
            "[%] Downloading Image #17 from https://i.pinimg.com/originals/c3/53/f2/c353f26a042ef9686e2e0a1bc21789f1.jpg\n",
            "[%] File Downloaded !\n",
            "\n",
            "[%] Downloading Image #18 from https://i.pinimg.com/1200x/f8/0e/62/f80e625bd512160e415714c9d1ec58c2.jpg\n",
            "[%] File Downloaded !\n",
            "\n",
            "[%] Downloading Image #19 from https://i.pinimg.com/736x/20/3c/68/203c6879e99caac6d3086f61f0cd12d0--roses-roses-pink-roses.jpg\n",
            "[%] File Downloaded !\n",
            "\n",
            "[%] Downloading Image #20 from https://i.pinimg.com/originals/9c/29/47/9c2947eb63e322150f240aadd3097e28.jpg\n",
            "[%] File Downloaded !\n",
            "\n",
            "[%] Downloading Image #21 from https://i.pinimg.com/originals/ed/11/35/ed113510e3a70d44bc2e4e5d345e4cc8.jpg\n",
            "[%] File Downloaded !\n",
            "\n",
            "[%] Downloading Image #22 from https://i.pinimg.com/originals/3b/3b/15/3b3b152ac8b643a5bc26c0773646f8ff.jpg\n",
            "[%] File Downloaded !\n",
            "\n",
            "[%] Downloading Image #23 from https://i.pinimg.com/originals/7e/e3/20/7ee3202f8c4a2007865a15848f9fabce.jpg\n",
            "[%] File Downloaded !\n",
            "\n",
            "[%] Downloading Image #24 from https://i.pinimg.com/originals/33/de/63/33de63fa19de02a0e28c38c52f1a2b16.jpg\n",
            "[%] File Downloaded !\n",
            "\n",
            "\n",
            "\n",
            "[!!]Indexing page: 2\n",
            "\n",
            "[%] Indexed 35 Images on Page 2.\n",
            "\n",
            "===============================================\n",
            "\n",
            "[%] Downloading Image #25 from https://i.pinimg.com/originals/45/36/3a/45363a8bbd625d373cf29907e5a6fa6e.jpg\n",
            "[%] File Downloaded !\n",
            "\n",
            "\n",
            "\n",
            "[%] Done. Downloaded 25 images.\n",
            "===============================================\n",
            "\n",
            "Please show your support here\n",
            "https://www.buymeacoffee.com/gurugaurav\n",
            "\n",
            "===============================================\n",
            "\n"
          ],
          "name": "stdout"
        }
      ]
    },
    {
      "cell_type": "code",
      "metadata": {
        "colab": {
          "base_uri": "https://localhost:8080/"
        },
        "id": "bEb-M785kb3u",
        "outputId": "30d718c1-f982-4b76-8321-415b5400ce71"
      },
      "source": [
        "from bing_image_downloader import downloader\n",
        "downloader .download(\"colourful hibiscuss\" ,limit=30,output_dir='images',\n",
        "                     adult_filter_off=True)"
      ],
      "execution_count": 4,
      "outputs": [
        {
          "output_type": "stream",
          "text": [
            "[%] Downloading Images to /content/images/colourful hibiscuss\n",
            "\n",
            "\n",
            "[!!]Indexing page: 1\n",
            "\n",
            "[%] Indexed 30 Images on Page 1.\n",
            "\n",
            "===============================================\n",
            "\n",
            "[%] Downloading Image #1 from https://i.pinimg.com/originals/c9/86/f0/c986f0ce606d3ddc8bded73a7763586d.jpg\n",
            "[%] File Downloaded !\n",
            "\n",
            "[%] Downloading Image #2 from https://i.pinimg.com/originals/f9/c1/66/f9c166038c53623a5d7c077776e2cf16.jpg\n",
            "[%] File Downloaded !\n",
            "\n",
            "[%] Downloading Image #3 from https://i.pinimg.com/originals/19/63/bf/1963bfeb7b8b49fab70a26b25f2a929e.jpg\n",
            "[%] File Downloaded !\n",
            "\n",
            "[%] Downloading Image #4 from https://s3-production.bobvila.com/slides/15612/original/houseplants-hibiscus.jpg?1475728192\n",
            "[%] File Downloaded !\n",
            "\n",
            "[%] Downloading Image #5 from https://i.pinimg.com/originals/d3/6b/cb/d36bcb67ffa76ae082111be2d0cc889a.jpg\n",
            "[%] File Downloaded !\n",
            "\n",
            "[%] Downloading Image #6 from https://i.pinimg.com/originals/fa/d6/bb/fad6bbe9b57d6b81995ede60e88468a2.jpg\n",
            "[%] File Downloaded !\n",
            "\n",
            "[%] Downloading Image #7 from https://i.pinimg.com/originals/eb/c3/86/ebc386e42713d51944ff045e67d576a7.jpg\n",
            "[%] File Downloaded !\n",
            "\n",
            "[%] Downloading Image #8 from https://i.pinimg.com/originals/2b/d0/95/2bd09554901fda46b06c2c77e28720de.jpg\n",
            "[%] File Downloaded !\n",
            "\n",
            "[%] Downloading Image #9 from https://s-media-cache-ak0.pinimg.com/736x/e2/de/37/e2de37a3b7c8cc59e1598653dff6b5c9.jpg\n",
            "[%] File Downloaded !\n",
            "\n",
            "[%] Downloading Image #10 from https://i.pinimg.com/originals/c0/da/81/c0da81c016a3e5de53e12144a71b0070.jpg\n",
            "[%] File Downloaded !\n",
            "\n",
            "[%] Downloading Image #11 from https://s-media-cache-ak0.pinimg.com/736x/28/be/05/28be0554db750dd80b9b37f544f86a92.jpg\n",
            "[%] File Downloaded !\n",
            "\n",
            "[%] Downloading Image #12 from https://i.pinimg.com/originals/bf/a0/c3/bfa0c315f4ffb0c85241d76fef9cffb0.jpg\n",
            "[%] File Downloaded !\n",
            "\n",
            "[%] Downloading Image #13 from https://i.pinimg.com/originals/d4/ca/0e/d4ca0e649301826857ee666584f558a2.jpg\n",
            "[%] File Downloaded !\n",
            "\n",
            "[%] Downloading Image #14 from https://i.pinimg.com/originals/61/75/e7/6175e74ac5313fff71f7e314716d2b4e.jpg\n",
            "[%] File Downloaded !\n",
            "\n",
            "[%] Downloading Image #15 from https://i.pinimg.com/originals/2e/d8/6a/2ed86a9fbe6272d6b6c2a47ff17a7c8b.jpg\n",
            "[%] File Downloaded !\n",
            "\n",
            "[%] Downloading Image #16 from https://i.pinimg.com/originals/32/54/6b/32546b5ac372888e3269762676dc3833.jpg\n",
            "[%] File Downloaded !\n",
            "\n",
            "[%] Downloading Image #17 from https://i.pinimg.com/originals/97/31/e3/9731e3467b1a64a3269a2da57c830af8.jpg\n",
            "[%] File Downloaded !\n",
            "\n",
            "[%] Downloading Image #18 from https://i.pinimg.com/originals/cc/3e/81/cc3e819bc453f2452dc792aa13cce84f.jpg\n",
            "[%] File Downloaded !\n",
            "\n",
            "[%] Downloading Image #19 from https://i.pinimg.com/originals/80/d7/77/80d777b65bcc9a2672e0a1792aa37007.jpg\n",
            "[%] File Downloaded !\n",
            "\n",
            "[%] Downloading Image #20 from https://i.pinimg.com/originals/80/91/4f/80914f44be23cd700e32b4f72bd86aae.jpg\n",
            "[%] File Downloaded !\n",
            "\n",
            "[%] Downloading Image #21 from https://i.pinimg.com/originals/8f/38/b0/8f38b09629e424a1ba077c14db804339.jpg\n",
            "[%] File Downloaded !\n",
            "\n",
            "[%] Downloading Image #22 from https://i.pinimg.com/originals/2c/2c/c0/2c2cc0112cce67164f92c0e39c376c45.jpg\n",
            "[%] File Downloaded !\n",
            "\n",
            "[%] Downloading Image #23 from https://i.ebayimg.com/images/g/Z7oAAOSwMNxXbzVF/s-l300.jpg\n",
            "[%] File Downloaded !\n",
            "\n",
            "[%] Downloading Image #24 from https://activerain.com/image_store/uploads/agents/mauihunter/files/tiedye2.jpg\n",
            "[%] File Downloaded !\n",
            "\n",
            "[%] Downloading Image #25 from https://i.pinimg.com/originals/df/2e/43/df2e43d5d07743896bcb7bcf70c65aae.jpg\n",
            "[%] File Downloaded !\n",
            "\n",
            "[%] Downloading Image #26 from https://i.pinimg.com/originals/3f/57/c8/3f57c8e3f6aca48d3cc82db7f2eef809.jpg\n",
            "[%] File Downloaded !\n",
            "\n",
            "[%] Downloading Image #27 from https://i.pinimg.com/originals/ce/e1/cb/cee1cbdff78fddbb693676864c43ad79.png\n",
            "[%] File Downloaded !\n",
            "\n",
            "[%] Downloading Image #28 from https://i.pinimg.com/originals/4a/3f/92/4a3f92001f34dcccc981b5554a565f5b.jpg\n",
            "[%] File Downloaded !\n",
            "\n",
            "[%] Downloading Image #29 from https://i.pinimg.com/originals/b4/40/d5/b440d5b52dd13208fe132e282a1877cd.jpg\n",
            "[%] File Downloaded !\n",
            "\n",
            "[%] Downloading Image #30 from https://i.ebayimg.com/images/g/2LYAAOSw4TVdniuJ/s-l640.jpg\n",
            "[%] File Downloaded !\n",
            "\n",
            "\n",
            "\n",
            "[%] Done. Downloaded 30 images.\n",
            "===============================================\n",
            "\n",
            "Please show your support here\n",
            "https://www.buymeacoffee.com/gurugaurav\n",
            "\n",
            "===============================================\n",
            "\n"
          ],
          "name": "stdout"
        }
      ]
    },
    {
      "cell_type": "code",
      "metadata": {
        "colab": {
          "base_uri": "https://localhost:8080/"
        },
        "id": "-fAQGAs3lRSc",
        "outputId": "3c20cdf0-17e3-4fce-b512-cd27c7bb7660"
      },
      "source": [
        "from bing_image_downloader import downloader\n",
        "downloader .download(\"different types of lily flowers\" ,limit=25,output_dir='images',\n",
        "                     adult_filter_off=True)"
      ],
      "execution_count": 6,
      "outputs": [
        {
          "output_type": "stream",
          "text": [
            "[%] Downloading Images to /content/images/different types of lily flowers\n",
            "\n",
            "\n",
            "[!!]Indexing page: 1\n",
            "\n",
            "[%] Indexed 25 Images on Page 1.\n",
            "\n",
            "===============================================\n",
            "\n",
            "[%] Downloading Image #1 from http://2.bp.blogspot.com/-B2U0oR-Fsfk/TglAg8crd2I/AAAAAAAAAWc/S_h4jcOo5zQ/s1600/lily.jpg\n",
            "[%] File Downloaded !\n",
            "\n",
            "[%] Downloading Image #2 from http://4.bp.blogspot.com/-zYr8t_5AfKU/TglAUouwRZI/AAAAAAAAAWY/ZDCga4pedGk/s1600/lilies2.jpg\n",
            "[%] File Downloaded !\n",
            "\n",
            "[%] Downloading Image #3 from http://1.bp.blogspot.com/-_1gIKXAwuyQ/TgnmHT1Z3rI/AAAAAAAAAWo/2lv8Wi0_l0Y/s1600/dark+pink2.jpg\n",
            "[%] File Downloaded !\n",
            "\n",
            "[%] Downloading Image #4 from https://i1.wp.com/savvygardening.com/wp-content/uploads/2019/03/oriental_lily_Stargazer.jpg?resize=600%2C798&amp;ssl=1\n",
            "[%] File Downloaded !\n",
            "\n",
            "[%] Downloading Image #5 from http://3.bp.blogspot.com/-FGGPCSCYg20/TgnmPWx-JSI/AAAAAAAAAWs/PX1LlUEHuHs/s1600/light+pink.jpg\n",
            "[%] File Downloaded !\n",
            "\n",
            "[%] Downloading Image #6 from https://coleandmarmalade.com/wp-content/uploads/2020/02/Canva-Pink-lilies-scaled.jpg\n",
            "[%] File Downloaded !\n",
            "\n",
            "[%] Downloading Image #7 from https://www.thespruce.com/thmb/ia55b6xa2GsodHurK89MijsR1ts=/2123x1412/filters:no_upscale():max_bytes(150000):strip_icc()/stargazerlily-58e5a5ab5f9b58ef7ee7daa8.jpg\n",
            "[%] File Downloaded !\n",
            "\n",
            "[%] Downloading Image #8 from https://pixfeeds.com/images/flowers/1280-546003646-asiatic-lilies.jpg\n",
            "[%] File Downloaded !\n",
            "\n",
            "[%] Downloading Image #9 from http://3.bp.blogspot.com/-RRniV0HiJ7U/Uo964G6hEMI/AAAAAAAA1U0/Fj-xy7udbuw/s1600/Lilium+Flowers+1.jpg\n",
            "[%] File Downloaded !\n",
            "\n",
            "[%] Downloading Image #10 from https://fthmb.tqn.com/LCyupmFhZf0tXxj6TpBwWS6ZSfo=/3867x2578/filters:fill(auto,1)/GettyImages-153342142-56a75f045f9b58b7d0e9bee6.jpg\n",
            "[%] File Downloaded !\n",
            "\n",
            "[%] Downloading Image #11 from https://blog.longfield-gardens.com/wp-content/uploads/2016/07/Yellow-OT-Lily-1.jpg\n",
            "[%] File Downloaded !\n",
            "\n",
            "[%] Downloading Image #12 from http://2.bp.blogspot.com/-yBhfzc8hN2U/TglDw1WYUfI/AAAAAAAAAWk/T8aqruwpUtk/s1600/white+lily.jpg\n",
            "[%] File Downloaded !\n",
            "\n",
            "[%] Downloading Image #13 from https://i.pinimg.com/originals/05/1d/c9/051dc9d7c69358c2c62dddd910c8ca34.jpg\n",
            "[%] File Downloaded !\n",
            "\n",
            "[%] Downloading Image #14 from https://www.almanac.com/sites/default/files/styles/primary_image_in_article/public/images/RealLily.jpg?itok=ZVM6wO1L\n",
            "[%] File Downloaded !\n",
            "\n",
            "[%] Downloading Image #15 from https://fthmb.tqn.com/u0dzJX-ZF1u18ti1B2f-uF9EFDc=/960x0/filters:no_upscale()/Asiaticlilies-58f647913df78ca159f402d3.jpg\n",
            "[%] File Downloaded !\n",
            "\n",
            "[%] Downloading Image #16 from https://pixfeeds.com/images/flowers/1280-599115616-lilies-and-day-lilies.jpg\n",
            "[%] File Downloaded !\n",
            "\n",
            "[%] Downloading Image #17 from https://www.healthyandnaturalworld.com/wp-content/uploads/2019/07/post1394.jpg\n",
            "[%] File Downloaded !\n",
            "\n",
            "[%] Downloading Image #18 from https://florgeous.com/wp-content/uploads/2020/05/lily-flower-meaning-1024x683.jpg\n",
            "[%] File Downloaded !\n",
            "\n",
            "[%] Downloading Image #19 from https://worldoffloweringplants.com/wp-content/uploads/2017/11/Lilium-lancifolium-Tiger-Lily4.jpg\n",
            "[%] File Downloaded !\n",
            "\n",
            "[%] Downloading Image #20 from https://pixfeeds.com/images/flowers/calla-lilies/1280-155352450-orange-and-yellow-calla-lilies.jpg\n",
            "[%] File Downloaded !\n",
            "\n",
            "[%] Downloading Image #21 from http://www.prestigeflowers.co.uk/flower_press/wp-content/uploads/2017/07/lily-1393087.jpg\n",
            "[%] File Downloaded !\n",
            "\n",
            "[%] Downloading Image #22 from https://pixfeeds.com/images/flowers/1280-92283244-asiatic-lilies.jpg\n",
            "[%] File Downloaded !\n",
            "\n",
            "[%] Downloading Image #23 from https://i.pinimg.com/originals/fb/75/f8/fb75f801ee235c3db0ba752bb133dfd3.jpg\n",
            "[%] File Downloaded !\n",
            "\n",
            "[%] Downloading Image #24 from https://blog.gardenloversclub.com/wp-content/uploads/2015/02/Calla-lily-white-flower-01.jpg\n",
            "[%] File Downloaded !\n",
            "\n",
            "[%] Downloading Image #25 from https://pixfeeds.com/images/flowers/1280-532815979-easter-lily.jpg\n",
            "[%] File Downloaded !\n",
            "\n",
            "\n",
            "\n",
            "[%] Done. Downloaded 25 images.\n",
            "===============================================\n",
            "\n",
            "Please show your support here\n",
            "https://www.buymeacoffee.com/gurugaurav\n",
            "\n",
            "===============================================\n",
            "\n",
            "time: 7.61 s (started: 2021-06-19 18:43:31 +00:00)\n"
          ],
          "name": "stdout"
        }
      ]
    },
    {
      "cell_type": "code",
      "metadata": {
        "colab": {
          "base_uri": "https://localhost:8080/"
        },
        "id": "NOjwCW9HlzC_",
        "outputId": "8ef3b4de-577f-4577-a97b-62f21045dd42"
      },
      "source": [
        "from bing_image_downloader import downloader\n",
        "downloader .download(\"different types of cactus plant\" ,limit=25,output_dir='images',\n",
        "                     adult_filter_off=True)"
      ],
      "execution_count": 7,
      "outputs": [
        {
          "output_type": "stream",
          "text": [
            "[%] Downloading Images to /content/images/different types of cactus plant\n",
            "\n",
            "\n",
            "[!!]Indexing page: 1\n",
            "\n",
            "[%] Indexed 25 Images on Page 1.\n",
            "\n",
            "===============================================\n",
            "\n",
            "[%] Downloading Image #1 from https://s3-production.bobvila.com/slides/38145/original/Types-of-Cactus-Plants-to-Grow-At-Home.jpg?1593369491\n",
            "[%] File Downloaded !\n",
            "\n",
            "[%] Downloading Image #2 from https://i.pinimg.com/originals/e1/72/e7/e172e706b19e2842fd81b74436d752fc.jpg\n",
            "[%] File Downloaded !\n",
            "\n",
            "[%] Downloading Image #3 from https://s3-production.bobvila.com/slides/38156/original/Jumping-Cactus.jpg?1593369500\n",
            "[%] File Downloaded !\n",
            "\n",
            "[%] Downloading Image #4 from https://i.pinimg.com/originals/ff/e3/bc/ffe3bc9e4b2d9f5965191439006f1adc.jpg\n",
            "[%] File Downloaded !\n",
            "\n",
            "[%] Downloading Image #5 from https://i.pinimg.com/originals/1f/1f/59/1f1f599c9dd9c1c549f58c5fce83c241.jpg\n",
            "[%] File Downloaded !\n",
            "\n",
            "[%] Downloading Image #6 from https://cdn.shortpixel.ai/client/q_glossy,ret_img,w_500/https://www.coolkidfacts.com/wp-content/uploads/2017/02/Cactus-Plants.jpg\n",
            "[%] File Downloaded !\n",
            "\n",
            "[%] Downloading Image #7 from https://i.pinimg.com/originals/13/9b/cf/139bcfff0a6fe4ea9d734bff30b39c89.jpg\n",
            "[%] File Downloaded !\n",
            "\n",
            "[%] Downloading Image #8 from https://usercontent2.hubstatic.com/4810355.jpg\n",
            "[%] File Downloaded !\n",
            "\n",
            "[%] Downloading Image #9 from https://s3.amazonaws.com/ogden_images/www.minotdailynews.com/images/2017/12/08164738/AP-cacti.jpg\n",
            "[%] File Downloaded !\n",
            "\n",
            "[%] Downloading Image #10 from https://i.pinimg.com/originals/9b/b9/c7/9bb9c7ed3c5efb4eb379356eed4c5e5f.jpg\n",
            "[%] File Downloaded !\n",
            "\n",
            "[%] Downloading Image #11 from http://worldofsucculents.com/wp-content/uploads/2015/06/Schlumbergera-x-buckleyi-True-Christmas-Cactus2.jpg\n",
            "[%] File Downloaded !\n",
            "\n",
            "[%] Downloading Image #12 from https://i.pinimg.com/originals/8b/31/17/8b311731281658a751d509ab4351d31d.jpg\n",
            "[%] File Downloaded !\n",
            "\n",
            "[%] Downloading Image #13 from https://s3-production.bobvila.com/slides/38153/original/Star-Cactus.jpg?1593369498\n",
            "[%] File Downloaded !\n",
            "\n",
            "[%] Downloading Image #14 from https://3.bp.blogspot.com/-xN9wqGyDr_0/U12Uj38amwI/AAAAAAAAA8U/-_JJDT8o-S4/s1600/IMG_1095.jpg\n",
            "[%] File Downloaded !\n",
            "\n",
            "[%] Downloading Image #15 from https://unusualseeds.net/wp-content/uploads/2019/03/cacti-featured-1400x636.jpg\n",
            "[%] File Downloaded !\n",
            "\n",
            "[%] Downloading Image #16 from https://i.pinimg.com/originals/3c/70/dc/3c70dcf86294cd81f000ef0a5b1fa63c.jpg\n",
            "[%] File Downloaded !\n",
            "\n",
            "[%] Downloading Image #17 from https://i.pinimg.com/736x/61/a3/57/61a3577fc9ad41d24666512ad50f5674.jpg\n",
            "[%] File Downloaded !\n",
            "\n",
            "[%] Downloading Image #18 from https://i.ebayimg.com/images/i/272981076917-0-1/s-l1000.jpg\n",
            "[%] File Downloaded !\n",
            "\n",
            "[%] Downloading Image #19 from https://i.pinimg.com/originals/46/02/17/46021707791d585a2f7f213b088071a0.jpg\n",
            "[%] File Downloaded !\n",
            "\n",
            "[%] Downloading Image #20 from https://3.bp.blogspot.com/-f0WUOabD4U0/UF8XRlyUd6I/AAAAAAAAGAs/CZWyrHE5Af4/s1600/cactus.jpg\n",
            "[%] File Downloaded !\n",
            "\n",
            "[%] Downloading Image #21 from https://s3-production.bobvila.com/slides/38158/original/Moon-Cactus.jpg?1593369502\n",
            "[%] File Downloaded !\n",
            "\n",
            "[%] Downloading Image #22 from http://3.bp.blogspot.com/-EG6-M_oQRVQ/UPAZEQ3_atI/AAAAAAAAdcM/FD1cq-56ZSI/s1600/cactus3n.jpg\n",
            "[%] File Downloaded !\n",
            "\n",
            "[%] Downloading Image #23 from https://www.jacobschristmas.com/wp-content/uploads/red-easter-cactus-1024x681.jpeg\n",
            "[%] File Downloaded !\n",
            "\n",
            "[%] Downloading Image #24 from https://i.pinimg.com/originals/8d/75/2b/8d752b06236a9a428ecebb91fc9320b1.jpg\n",
            "[%] File Downloaded !\n",
            "\n",
            "[%] Downloading Image #25 from http://1.bp.blogspot.com/-XIVLcGqYFv4/UM9P5AZuOnI/AAAAAAAABxA/0XlhaKdVsuQ/s1600/buds.JPG\n",
            "[%] File Downloaded !\n",
            "\n",
            "\n",
            "\n",
            "[%] Done. Downloaded 25 images.\n",
            "===============================================\n",
            "\n",
            "Please show your support here\n",
            "https://www.buymeacoffee.com/gurugaurav\n",
            "\n",
            "===============================================\n",
            "\n",
            "time: 7.7 s (started: 2021-06-19 18:45:35 +00:00)\n"
          ],
          "name": "stdout"
        }
      ]
    },
    {
      "cell_type": "code",
      "metadata": {
        "colab": {
          "base_uri": "https://localhost:8080/"
        },
        "id": "r3BqsbeWk7yj",
        "outputId": "eafb5cef-c498-4691-b4b0-d63151775779"
      },
      "source": [
        "!pip install ipython-autotime\n",
        "%load_ext autotime"
      ],
      "execution_count": 5,
      "outputs": [
        {
          "output_type": "stream",
          "text": [
            "Collecting ipython-autotime\n",
            "  Downloading https://files.pythonhosted.org/packages/b4/c9/b413a24f759641bc27ef98c144b590023c8038dfb8a3f09e713e9dff12c1/ipython_autotime-0.3.1-py2.py3-none-any.whl\n",
            "Requirement already satisfied: ipython in /usr/local/lib/python3.7/dist-packages (from ipython-autotime) (5.5.0)\n",
            "Requirement already satisfied: pexpect; sys_platform != \"win32\" in /usr/local/lib/python3.7/dist-packages (from ipython->ipython-autotime) (4.8.0)\n",
            "Requirement already satisfied: traitlets>=4.2 in /usr/local/lib/python3.7/dist-packages (from ipython->ipython-autotime) (5.0.5)\n",
            "Requirement already satisfied: decorator in /usr/local/lib/python3.7/dist-packages (from ipython->ipython-autotime) (4.4.2)\n",
            "Requirement already satisfied: pygments in /usr/local/lib/python3.7/dist-packages (from ipython->ipython-autotime) (2.6.1)\n",
            "Requirement already satisfied: simplegeneric>0.8 in /usr/local/lib/python3.7/dist-packages (from ipython->ipython-autotime) (0.8.1)\n",
            "Requirement already satisfied: prompt-toolkit<2.0.0,>=1.0.4 in /usr/local/lib/python3.7/dist-packages (from ipython->ipython-autotime) (1.0.18)\n",
            "Requirement already satisfied: pickleshare in /usr/local/lib/python3.7/dist-packages (from ipython->ipython-autotime) (0.7.5)\n",
            "Requirement already satisfied: setuptools>=18.5 in /usr/local/lib/python3.7/dist-packages (from ipython->ipython-autotime) (57.0.0)\n",
            "Requirement already satisfied: ptyprocess>=0.5 in /usr/local/lib/python3.7/dist-packages (from pexpect; sys_platform != \"win32\"->ipython->ipython-autotime) (0.7.0)\n",
            "Requirement already satisfied: ipython-genutils in /usr/local/lib/python3.7/dist-packages (from traitlets>=4.2->ipython->ipython-autotime) (0.2.0)\n",
            "Requirement already satisfied: six>=1.9.0 in /usr/local/lib/python3.7/dist-packages (from prompt-toolkit<2.0.0,>=1.0.4->ipython->ipython-autotime) (1.15.0)\n",
            "Requirement already satisfied: wcwidth in /usr/local/lib/python3.7/dist-packages (from prompt-toolkit<2.0.0,>=1.0.4->ipython->ipython-autotime) (0.2.5)\n",
            "Installing collected packages: ipython-autotime\n",
            "Successfully installed ipython-autotime-0.3.1\n",
            "time: 179 µs (started: 2021-06-19 18:41:59 +00:00)\n"
          ],
          "name": "stdout"
        }
      ]
    },
    {
      "cell_type": "code",
      "metadata": {
        "colab": {
          "base_uri": "https://localhost:8080/",
          "height": 286
        },
        "id": "JCmrtDrtmKp7",
        "outputId": "9ce3fcda-96f7-49bb-e8f9-fef08a50ca67"
      },
      "source": [
        "# Preprocessing\n",
        "\n",
        "import os\n",
        "import matplotlib.pyplot as plt\n",
        "import numpy as np\n",
        "from skimage.io import imread\n",
        "from skimage.transform import resize \n",
        "\n",
        "target = []\n",
        "images = []\n",
        "flat_data = []\n",
        "\n",
        "DATADIR = '/content/images'\n",
        "CATEGORIES = ['beautiful roses','colourful hibiscuss','different types of cactus plant','different types of lily flowers']\n",
        "\n",
        "for category in CATEGORIES:\n",
        "  class_num = CATEGORIES.index(category) # Label Encoding the values\n",
        "  path = os.path.join(DATADIR,category) # Create path to use all the images\n",
        "  for img in os.listdir(path):\n",
        "   img_array = imread(os.path.join(path,img))\n",
        "   #print(img_array.shape)\n",
        "  plt.imshow(img_array)\n",
        "  break\n",
        " "
      ],
      "execution_count": 21,
      "outputs": [
        {
          "output_type": "display_data",
          "data": {
            "image/png": "[encoded data removed]",
            "text/plain": [
              "<Figure size 432x288 with 1 Axes>"
            ]
          },
          "metadata": {
            "tags": [],
            "needs_background": "light"
          }
        },
        {
          "output_type": "stream",
          "text": [
            "time: 1.13 s (started: 2021-06-19 19:32:00 +00:00)\n"
          ],
          "name": "stdout"
        }
      ]
    }
  ]
}